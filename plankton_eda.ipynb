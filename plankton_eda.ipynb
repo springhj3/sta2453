{
 "cells": [
  {
   "cell_type": "markdown",
   "metadata": {},
   "source": [
    "First I will check SIMC datasets. \n",
    "This EDA will follow steps in https://r4ds.hadley.nz/eda\n",
    "First question is \"What type of variation occurs within my variables?\"\n",
    "Before I answer this question, I'll look through datasets.\n",
    "First thing to do is check whether all csv have same features. "
   ]
  },
  {
   "cell_type": "code",
   "execution_count": 1,
   "metadata": {},
   "outputs": [],
   "source": [
    "import os\n",
    "import pandas as pd"
   ]
  },
  {
   "cell_type": "code",
   "execution_count": 2,
   "metadata": {},
   "outputs": [
    {
     "name": "stdout",
     "output_type": "stream",
     "text": [
      "The following files have inconsistent columns: ['20190503_SIMC_009_2mm_rep2_KG_data.csv', '20190506_SIMC_017_2mm_rep3_KG_data.csv', '20190508_SIMC_045_2mm_rep3_KG_data.csv', '20190508_SIMC_047_2mm_rep1_KG_data.csv', '20190514_SIMC_051_2mm_rep3_KG_data.csv', '20190514_SIMC_055_2mm_rep1_KG_data.csv', '20190515_SIMC_069_2mm_rep3_KG_data.csv', '20190523_SIMC_107_2mm_rep3_KG_data.csv', '20190527_SIMC_115_2mm_rep1_KG_data.csv']\n"
     ]
    }
   ],
   "source": [
    "csv_folder = r\"C:\\Users\\sprin\\Downloads\\SIMC_OverlapTiffsWithPP\\SIMC_OverlapTiffsWithPP\\SIMC.Overlap.csv\"\n",
    "\n",
    "csv_files = [f for f in os.listdir(csv_folder) if f.endswith(\".csv\")]\n",
    "\n",
    "first_csv = pd.read_csv(os.path.join(csv_folder, csv_files[0]))\n",
    "reference_columns = set(first_csv.columns)\n",
    "\n",
    "# Check all other CSVs\n",
    "inconsistent_files = []\n",
    "for csv_file in csv_files[1:]:\n",
    "    df = pd.read_csv(os.path.join(csv_folder, csv_file))\n",
    "    if set(df.columns) != reference_columns:\n",
    "        inconsistent_files.append(csv_file)\n",
    "\n",
    "if inconsistent_files:\n",
    "    print(\"The following files have inconsistent columns:\", inconsistent_files)\n",
    "else:\n",
    "    print(\"All CSV files have the same columns.\")"
   ]
  },
  {
   "cell_type": "markdown",
   "metadata": {},
   "source": [
    "Since we got some csvs having different features, we'll figure out what columns they have extra or missed."
   ]
  },
  {
   "cell_type": "code",
   "execution_count": 3,
   "metadata": {},
   "outputs": [
    {
     "name": "stdout",
     "output_type": "stream",
     "text": [
      "\n",
      "File: 20190503_SIMC_009_2mm_rep2_KG_data.csv\n",
      "  Extra columns: {'Biovolume..P..Spheroid.', 'Biovolume..Sphere.', 'Biovolume..Cylinder.'}\n",
      "\n",
      "File: 20190506_SIMC_017_2mm_rep3_KG_data.csv\n",
      "  Extra columns: {'Biovolume..P..Spheroid.', 'Biovolume..Sphere.', 'Biovolume..Cylinder.'}\n",
      "\n",
      "File: 20190508_SIMC_045_2mm_rep3_KG_data.csv\n",
      "  Extra columns: {'Biovolume..P..Spheroid.', 'Biovolume..Sphere.', 'Biovolume..Cylinder.'}\n",
      "\n",
      "File: 20190508_SIMC_047_2mm_rep1_KG_data.csv\n",
      "  Extra columns: {'Biovolume..P..Spheroid.', 'Biovolume..Sphere.', 'Biovolume..Cylinder.'}\n",
      "\n",
      "File: 20190514_SIMC_051_2mm_rep3_KG_data.csv\n",
      "  Extra columns: {'Biovolume..P..Spheroid.', 'Biovolume..Sphere.', 'Biovolume..Cylinder.'}\n",
      "\n",
      "File: 20190514_SIMC_055_2mm_rep1_KG_data.csv\n",
      "  Extra columns: {'Biovolume..P..Spheroid.', 'Biovolume..Sphere.', 'Biovolume..Cylinder.'}\n",
      "\n",
      "File: 20190515_SIMC_069_2mm_rep3_KG_data.csv\n",
      "  Extra columns: {'Biovolume..P..Spheroid.', 'Biovolume..Sphere.', 'Biovolume..Cylinder.'}\n",
      "\n",
      "File: 20190523_SIMC_107_2mm_rep3_KG_data.csv\n",
      "  Extra columns: {'Biovolume..P..Spheroid.', 'Biovolume..Sphere.', 'Biovolume..Cylinder.'}\n",
      "\n",
      "File: 20190527_SIMC_115_2mm_rep1_KG_data.csv\n",
      "  Extra columns: {'Biovolume..P..Spheroid.', 'Biovolume..Sphere.', 'Biovolume..Cylinder.'}\n"
     ]
    }
   ],
   "source": [
    "column_sets = {}\n",
    "\n",
    "for csv_file in csv_files:\n",
    "    df = pd.read_csv(os.path.join(csv_folder, csv_file))\n",
    "    column_sets[csv_file] = set(df.columns)\n",
    "\n",
    "# Compare all CSV column sets\n",
    "for file, columns in column_sets.items():\n",
    "    if columns != reference_columns:\n",
    "        missing = reference_columns - columns\n",
    "        extra = columns - reference_columns\n",
    "        print(f\"\\nFile: {file}\")\n",
    "        if missing:\n",
    "            print(f\"  Missing columns: {missing}\")\n",
    "        if extra:\n",
    "            print(f\"  Extra columns: {extra}\")"
   ]
  },
  {
   "cell_type": "markdown",
   "metadata": {},
   "source": [
    "Since there are some csv files containing extra three columns, and there are only 9 files out of 251 files, we'll drop features for EDA and further on. \n",
    "Now, I will check whether columns are in same order to combine csv files in one. "
   ]
  },
  {
   "cell_type": "code",
   "execution_count": 4,
   "metadata": {},
   "outputs": [
    {
     "data": {
      "text/plain": [
       "251"
      ]
     },
     "execution_count": 4,
     "metadata": {},
     "output_type": "execute_result"
    }
   ],
   "source": [
    "order_mismatch_files = []\n",
    "\n",
    "for csv_file in csv_files:\n",
    "    df = pd.read_csv(os.path.join(csv_folder, csv_file))\n",
    "    if list(df.columns) != reference_columns:\n",
    "        order_mismatch_files.append(csv_file)\n",
    "\n",
    "# Report if any files still have column order mismatches\n",
    "if order_mismatch_files:\n",
    "    print(\"The following files have column order mismatches:\", order_mismatch_files)\n",
    "else:\n",
    "    print(\"All CSV files have the same column order.\")"
   ]
  }
 ],
 "metadata": {
  "kernelspec": {
   "display_name": "base",
   "language": "python",
   "name": "python3"
  },
  "language_info": {
   "codemirror_mode": {
    "name": "ipython",
    "version": 3
   },
   "file_extension": ".py",
   "mimetype": "text/x-python",
   "name": "python",
   "nbconvert_exporter": "python",
   "pygments_lexer": "ipython3",
   "version": "3.11.7"
  }
 },
 "nbformat": 4,
 "nbformat_minor": 2
}
