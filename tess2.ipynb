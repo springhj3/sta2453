{
 "cells": [
  {
   "cell_type": "code",
   "execution_count": 2,
   "metadata": {},
   "outputs": [],
   "source": [
    "import lightkurve as lk\n",
    "import numpy as np\n",
    "import matplotlib.pyplot as plt\n",
    "%matplotlib inline"
   ]
  },
  {
   "cell_type": "markdown",
   "metadata": {},
   "source": [
    "Full Frame Images (FFIs): The full sector images, with a cadence of 30-min (years 1 & 2) or 10-min (years 3 & 4).\n",
    "Target Pixel Files (TPFs): Postage stamp cut outs from the FFIs, focused on a selected target of interest. Each stamp has a cadence of 2-min or 20-sec.\n",
    "Light Curve Files (LCFs): The time series data produced for each 2-min or 20-sec TPF object."
   ]
  },
  {
   "cell_type": "code",
   "execution_count": 3,
   "metadata": {},
   "outputs": [],
   "source": [
    "search_ffi = lk.search_tesscut('L 98-59')\n",
    "search_tpf = lk.search_targetpixelfile('L 98-59')\n",
    "search_lcf = lk.search_lightcurve('L 98-59')"
   ]
  },
  {
   "cell_type": "code",
   "execution_count": 4,
   "metadata": {},
   "outputs": [
    {
     "data": {
      "text/html": [
       "SearchResult containing 22 data products.\n",
       "\n",
       "<table id=\"table2755326249936\">\n",
       "<thead><tr><th>#</th><th>mission</th><th>year</th><th>author</th><th>exptime</th><th>target_name</th><th>distance</th></tr></thead>\n",
       "<thead><tr><th></th><th></th><th></th><th></th><th>s</th><th></th><th>arcsec</th></tr></thead>\n",
       "<tr><td>0</td><td>TESS Sector 05</td><td>2018</td><td><a href='https://mast.stsci.edu/tesscut/'>TESScut</a></td><td>1426</td><td>L 98-59</td><td>0.0</td></tr>\n",
       "<tr><td>1</td><td>TESS Sector 01</td><td>2018</td><td><a href='https://mast.stsci.edu/tesscut/'>TESScut</a></td><td>1426</td><td>L 98-59</td><td>0.0</td></tr>\n",
       "<tr><td>2</td><td>TESS Sector 02</td><td>2018</td><td><a href='https://mast.stsci.edu/tesscut/'>TESScut</a></td><td>1426</td><td>L 98-59</td><td>0.0</td></tr>\n",
       "<tr><td>3</td><td>TESS Sector 10</td><td>2019</td><td><a href='https://mast.stsci.edu/tesscut/'>TESScut</a></td><td>1426</td><td>L 98-59</td><td>0.0</td></tr>\n",
       "<tr><td>4</td><td>TESS Sector 11</td><td>2019</td><td><a href='https://mast.stsci.edu/tesscut/'>TESScut</a></td><td>1426</td><td>L 98-59</td><td>0.0</td></tr>\n",
       "<tr><td>5</td><td>TESS Sector 12</td><td>2019</td><td><a href='https://mast.stsci.edu/tesscut/'>TESScut</a></td><td>1426</td><td>L 98-59</td><td>0.0</td></tr>\n",
       "<tr><td>6</td><td>TESS Sector 08</td><td>2019</td><td><a href='https://mast.stsci.edu/tesscut/'>TESScut</a></td><td>1426</td><td>L 98-59</td><td>0.0</td></tr>\n",
       "<tr><td>7</td><td>TESS Sector 09</td><td>2019</td><td><a href='https://mast.stsci.edu/tesscut/'>TESScut</a></td><td>1426</td><td>L 98-59</td><td>0.0</td></tr>\n",
       "<tr><td>8</td><td>TESS Sector 32</td><td>2020</td><td><a href='https://mast.stsci.edu/tesscut/'>TESScut</a></td><td>475</td><td>L 98-59</td><td>0.0</td></tr>\n",
       "<tr><td>9</td><td>TESS Sector 28</td><td>2020</td><td><a href='https://mast.stsci.edu/tesscut/'>TESScut</a></td><td>475</td><td>L 98-59</td><td>0.0</td></tr>\n",
       "<tr><td>10</td><td>TESS Sector 29</td><td>2020</td><td><a href='https://mast.stsci.edu/tesscut/'>TESScut</a></td><td>475</td><td>L 98-59</td><td>0.0</td></tr>\n",
       "<tr><td>11</td><td>TESS Sector 39</td><td>2021</td><td><a href='https://mast.stsci.edu/tesscut/'>TESScut</a></td><td>475</td><td>L 98-59</td><td>0.0</td></tr>\n",
       "<tr><td>12</td><td>TESS Sector 36</td><td>2021</td><td><a href='https://mast.stsci.edu/tesscut/'>TESScut</a></td><td>475</td><td>L 98-59</td><td>0.0</td></tr>\n",
       "<tr><td>13</td><td>TESS Sector 37</td><td>2021</td><td><a href='https://mast.stsci.edu/tesscut/'>TESScut</a></td><td>475</td><td>L 98-59</td><td>0.0</td></tr>\n",
       "<tr><td>14</td><td>TESS Sector 38</td><td>2021</td><td><a href='https://mast.stsci.edu/tesscut/'>TESScut</a></td><td>475</td><td>L 98-59</td><td>0.0</td></tr>\n",
       "<tr><td>15</td><td>TESS Sector 35</td><td>2021</td><td><a href='https://mast.stsci.edu/tesscut/'>TESScut</a></td><td>475</td><td>L 98-59</td><td>0.0</td></tr>\n",
       "<tr><td>16</td><td>TESS Sector 65</td><td>2023</td><td><a href='https://mast.stsci.edu/tesscut/'>TESScut</a></td><td>158</td><td>L 98-59</td><td>0.0</td></tr>\n",
       "<tr><td>17</td><td>TESS Sector 61</td><td>2023</td><td><a href='https://mast.stsci.edu/tesscut/'>TESScut</a></td><td>158</td><td>L 98-59</td><td>0.0</td></tr>\n",
       "<tr><td>18</td><td>TESS Sector 69</td><td>2023</td><td><a href='https://mast.stsci.edu/tesscut/'>TESScut</a></td><td>158</td><td>L 98-59</td><td>0.0</td></tr>\n",
       "<tr><td>19</td><td>TESS Sector 62</td><td>2023</td><td><a href='https://mast.stsci.edu/tesscut/'>TESScut</a></td><td>158</td><td>L 98-59</td><td>0.0</td></tr>\n",
       "<tr><td>20</td><td>TESS Sector 63</td><td>2023</td><td><a href='https://mast.stsci.edu/tesscut/'>TESScut</a></td><td>158</td><td>L 98-59</td><td>0.0</td></tr>\n",
       "<tr><td>21</td><td>TESS Sector 64</td><td>2023</td><td><a href='https://mast.stsci.edu/tesscut/'>TESScut</a></td><td>158</td><td>L 98-59</td><td>0.0</td></tr>\n",
       "</table>"
      ],
      "text/plain": [
       "SearchResult containing 22 data products.\n",
       "\n",
       " #     mission     year  author exptime target_name distance\n",
       "                                   s                 arcsec \n",
       "--- -------------- ---- ------- ------- ----------- --------\n",
       "  0 TESS Sector 05 2018 TESScut    1426     L 98-59      0.0\n",
       "  1 TESS Sector 01 2018 TESScut    1426     L 98-59      0.0\n",
       "  2 TESS Sector 02 2018 TESScut    1426     L 98-59      0.0\n",
       "  3 TESS Sector 10 2019 TESScut    1426     L 98-59      0.0\n",
       "  4 TESS Sector 11 2019 TESScut    1426     L 98-59      0.0\n",
       "  5 TESS Sector 12 2019 TESScut    1426     L 98-59      0.0\n",
       "  6 TESS Sector 08 2019 TESScut    1426     L 98-59      0.0\n",
       "  7 TESS Sector 09 2019 TESScut    1426     L 98-59      0.0\n",
       "  8 TESS Sector 32 2020 TESScut     475     L 98-59      0.0\n",
       "  9 TESS Sector 28 2020 TESScut     475     L 98-59      0.0\n",
       " 10 TESS Sector 29 2020 TESScut     475     L 98-59      0.0\n",
       " 11 TESS Sector 39 2021 TESScut     475     L 98-59      0.0\n",
       " 12 TESS Sector 36 2021 TESScut     475     L 98-59      0.0\n",
       " 13 TESS Sector 37 2021 TESScut     475     L 98-59      0.0\n",
       " 14 TESS Sector 38 2021 TESScut     475     L 98-59      0.0\n",
       " 15 TESS Sector 35 2021 TESScut     475     L 98-59      0.0\n",
       " 16 TESS Sector 65 2023 TESScut     158     L 98-59      0.0\n",
       " 17 TESS Sector 61 2023 TESScut     158     L 98-59      0.0\n",
       " 18 TESS Sector 69 2023 TESScut     158     L 98-59      0.0\n",
       " 19 TESS Sector 62 2023 TESScut     158     L 98-59      0.0\n",
       " 20 TESS Sector 63 2023 TESScut     158     L 98-59      0.0\n",
       " 21 TESS Sector 64 2023 TESScut     158     L 98-59      0.0"
      ]
     },
     "execution_count": 4,
     "metadata": {},
     "output_type": "execute_result"
    }
   ],
   "source": [
    "search_ffi"
   ]
  },
  {
   "cell_type": "markdown",
   "metadata": {},
   "source": [
    "- The sector in which the object was observed. \n",
    "- The year in which the object was observed. \n",
    "- The author of the data. This has multiple options and each is a hyperlink that when clicked will provide you with more information. \n",
    "- The cadence of the observation. \n",
    "- The name of the target. \n",
    "- The distance of the observation from your target of interest.\n",
    "The table above indicates that our object was observed in multiple sectors. Note that in years 1 and 2 (2018 & 2019) that the cadence of the FFI data was 30-min, but in year 3 (2020/2021) it is 10-min."
   ]
  },
  {
   "cell_type": "code",
   "execution_count": 5,
   "metadata": {},
   "outputs": [
    {
     "data": {
      "text/html": [
       "SearchResult containing 56 data products.\n",
       "\n",
       "<table id=\"table2755336015952\">\n",
       "<thead><tr><th>#</th><th>mission</th><th>year</th><th>author</th><th>exptime</th><th>target_name</th><th>distance</th></tr></thead>\n",
       "<thead><tr><th></th><th></th><th></th><th></th><th>s</th><th></th><th>arcsec</th></tr></thead>\n",
       "<tr><td>0</td><td>TESS Sector 05</td><td>2018</td><td><a href='https://heasarc.gsfc.nasa.gov/docs/tess/pipeline.html'>SPOC</a></td><td>120</td><td>307210830</td><td>0.0</td></tr>\n",
       "<tr><td>1</td><td>TESS Sector 02</td><td>2018</td><td><a href='https://heasarc.gsfc.nasa.gov/docs/tess/pipeline.html'>SPOC</a></td><td>120</td><td>307210830</td><td>0.0</td></tr>\n",
       "<tr><td>2</td><td>TESS Sector 12</td><td>2019</td><td><a href='https://heasarc.gsfc.nasa.gov/docs/tess/pipeline.html'>SPOC</a></td><td>120</td><td>307210830</td><td>0.0</td></tr>\n",
       "<tr><td>3</td><td>TESS Sector 11</td><td>2019</td><td><a href='https://heasarc.gsfc.nasa.gov/docs/tess/pipeline.html'>SPOC</a></td><td>120</td><td>307210830</td><td>0.0</td></tr>\n",
       "<tr><td>4</td><td>TESS Sector 10</td><td>2019</td><td><a href='https://heasarc.gsfc.nasa.gov/docs/tess/pipeline.html'>SPOC</a></td><td>120</td><td>307210830</td><td>0.0</td></tr>\n",
       "<tr><td>5</td><td>TESS Sector 09</td><td>2019</td><td><a href='https://heasarc.gsfc.nasa.gov/docs/tess/pipeline.html'>SPOC</a></td><td>120</td><td>307210830</td><td>0.0</td></tr>\n",
       "<tr><td>6</td><td>TESS Sector 08</td><td>2019</td><td><a href='https://heasarc.gsfc.nasa.gov/docs/tess/pipeline.html'>SPOC</a></td><td>120</td><td>307210830</td><td>0.0</td></tr>\n",
       "<tr><td>7</td><td>TESS Sector 29</td><td>2020</td><td><a href='https://heasarc.gsfc.nasa.gov/docs/tess/pipeline.html'>SPOC</a></td><td>20</td><td>307210830</td><td>0.0</td></tr>\n",
       "<tr><td>8</td><td>TESS Sector 28</td><td>2020</td><td><a href='https://heasarc.gsfc.nasa.gov/docs/tess/pipeline.html'>SPOC</a></td><td>20</td><td>307210830</td><td>0.0</td></tr>\n",
       "<tr><td>9</td><td>TESS Sector 32</td><td>2020</td><td><a href='https://heasarc.gsfc.nasa.gov/docs/tess/pipeline.html'>SPOC</a></td><td>20</td><td>307210830</td><td>0.0</td></tr>\n",
       "<tr><td>...</td><td>...</td><td>...</td><td>...</td><td>...</td><td>...</td><td>...</td></tr>\n",
       "<tr><td>46</td><td>TESS Sector 37</td><td>2021</td><td><a href='https://archive.stsci.edu/hlsp/tess-spoc'>TESS-SPOC</a></td><td>600</td><td>307210830</td><td>0.0</td></tr>\n",
       "<tr><td>47</td><td>TESS Sector 38</td><td>2021</td><td><a href='https://archive.stsci.edu/hlsp/tess-spoc'>TESS-SPOC</a></td><td>600</td><td>307210830</td><td>0.0</td></tr>\n",
       "<tr><td>48</td><td>TESS Sector 39</td><td>2021</td><td><a href='https://archive.stsci.edu/hlsp/tess-spoc'>TESS-SPOC</a></td><td>600</td><td>307210830</td><td>0.0</td></tr>\n",
       "<tr><td>49</td><td>TESS Sector 35</td><td>2021</td><td><a href='https://archive.stsci.edu/hlsp/tess-spoc'>TESS-SPOC</a></td><td>600</td><td>307210830</td><td>0.0</td></tr>\n",
       "<tr><td>50</td><td>TESS Sector 69</td><td>2023</td><td><a href='https://archive.stsci.edu/hlsp/tess-spoc'>TESS-SPOC</a></td><td>200</td><td>307210830</td><td>0.0</td></tr>\n",
       "<tr><td>51</td><td>TESS Sector 61</td><td>2023</td><td><a href='https://archive.stsci.edu/hlsp/tess-spoc'>TESS-SPOC</a></td><td>200</td><td>307210830</td><td>0.0</td></tr>\n",
       "<tr><td>52</td><td>TESS Sector 62</td><td>2023</td><td><a href='https://archive.stsci.edu/hlsp/tess-spoc'>TESS-SPOC</a></td><td>200</td><td>307210830</td><td>0.0</td></tr>\n",
       "<tr><td>53</td><td>TESS Sector 63</td><td>2023</td><td><a href='https://archive.stsci.edu/hlsp/tess-spoc'>TESS-SPOC</a></td><td>200</td><td>307210830</td><td>0.0</td></tr>\n",
       "<tr><td>54</td><td>TESS Sector 64</td><td>2023</td><td><a href='https://archive.stsci.edu/hlsp/tess-spoc'>TESS-SPOC</a></td><td>200</td><td>307210830</td><td>0.0</td></tr>\n",
       "<tr><td>55</td><td>TESS Sector 65</td><td>2023</td><td><a href='https://archive.stsci.edu/hlsp/tess-spoc'>TESS-SPOC</a></td><td>200</td><td>307210830</td><td>0.0</td></tr>\n",
       "</table>\n",
       "Length = 56 rows"
      ],
      "text/plain": [
       "SearchResult containing 56 data products.\n",
       "\n",
       " #     mission     year   author  exptime target_name distance\n",
       "                                     s                 arcsec \n",
       "--- -------------- ---- --------- ------- ----------- --------\n",
       "  0 TESS Sector 05 2018      SPOC     120   307210830      0.0\n",
       "  1 TESS Sector 02 2018      SPOC     120   307210830      0.0\n",
       "  2 TESS Sector 12 2019      SPOC     120   307210830      0.0\n",
       "  3 TESS Sector 11 2019      SPOC     120   307210830      0.0\n",
       "  4 TESS Sector 10 2019      SPOC     120   307210830      0.0\n",
       "  5 TESS Sector 09 2019      SPOC     120   307210830      0.0\n",
       "  6 TESS Sector 08 2019      SPOC     120   307210830      0.0\n",
       "  7 TESS Sector 29 2020      SPOC      20   307210830      0.0\n",
       "  8 TESS Sector 28 2020      SPOC      20   307210830      0.0\n",
       "  9 TESS Sector 32 2020      SPOC      20   307210830      0.0\n",
       "...            ...  ...       ...     ...         ...      ...\n",
       " 46 TESS Sector 37 2021 TESS-SPOC     600   307210830      0.0\n",
       " 47 TESS Sector 38 2021 TESS-SPOC     600   307210830      0.0\n",
       " 48 TESS Sector 39 2021 TESS-SPOC     600   307210830      0.0\n",
       " 49 TESS Sector 35 2021 TESS-SPOC     600   307210830      0.0\n",
       " 50 TESS Sector 69 2023 TESS-SPOC     200   307210830      0.0\n",
       " 51 TESS Sector 61 2023 TESS-SPOC     200   307210830      0.0\n",
       " 52 TESS Sector 62 2023 TESS-SPOC     200   307210830      0.0\n",
       " 53 TESS Sector 63 2023 TESS-SPOC     200   307210830      0.0\n",
       " 54 TESS Sector 64 2023 TESS-SPOC     200   307210830      0.0\n",
       " 55 TESS Sector 65 2023 TESS-SPOC     200   307210830      0.0\n",
       "Length = 56 rows"
      ]
     },
     "execution_count": 5,
     "metadata": {},
     "output_type": "execute_result"
    }
   ],
   "source": [
    "search_tpf"
   ]
  },
  {
   "cell_type": "code",
   "execution_count": 6,
   "metadata": {},
   "outputs": [
    {
     "data": {
      "text/html": [
       "SearchResult containing 97 data products.\n",
       "\n",
       "<table id=\"table2757324224592\">\n",
       "<thead><tr><th>#</th><th>mission</th><th>year</th><th>author</th><th>exptime</th><th>target_name</th><th>distance</th></tr></thead>\n",
       "<thead><tr><th></th><th></th><th></th><th></th><th>s</th><th></th><th>arcsec</th></tr></thead>\n",
       "<tr><td>0</td><td>TESS Sector 02</td><td>2018</td><td><a href='https://heasarc.gsfc.nasa.gov/docs/tess/pipeline.html'>SPOC</a></td><td>120</td><td>307210830</td><td>0.0</td></tr>\n",
       "<tr><td>1</td><td>TESS Sector 05</td><td>2018</td><td><a href='https://heasarc.gsfc.nasa.gov/docs/tess/pipeline.html'>SPOC</a></td><td>120</td><td>307210830</td><td>0.0</td></tr>\n",
       "<tr><td>2</td><td>TESS Sector 11</td><td>2019</td><td><a href='https://heasarc.gsfc.nasa.gov/docs/tess/pipeline.html'>SPOC</a></td><td>120</td><td>307210830</td><td>0.0</td></tr>\n",
       "<tr><td>3</td><td>TESS Sector 08</td><td>2019</td><td><a href='https://heasarc.gsfc.nasa.gov/docs/tess/pipeline.html'>SPOC</a></td><td>120</td><td>307210830</td><td>0.0</td></tr>\n",
       "<tr><td>4</td><td>TESS Sector 09</td><td>2019</td><td><a href='https://heasarc.gsfc.nasa.gov/docs/tess/pipeline.html'>SPOC</a></td><td>120</td><td>307210830</td><td>0.0</td></tr>\n",
       "<tr><td>5</td><td>TESS Sector 10</td><td>2019</td><td><a href='https://heasarc.gsfc.nasa.gov/docs/tess/pipeline.html'>SPOC</a></td><td>120</td><td>307210830</td><td>0.0</td></tr>\n",
       "<tr><td>6</td><td>TESS Sector 12</td><td>2019</td><td><a href='https://heasarc.gsfc.nasa.gov/docs/tess/pipeline.html'>SPOC</a></td><td>120</td><td>307210830</td><td>0.0</td></tr>\n",
       "<tr><td>7</td><td>TESS Sector 28</td><td>2020</td><td><a href='https://heasarc.gsfc.nasa.gov/docs/tess/pipeline.html'>SPOC</a></td><td>20</td><td>307210830</td><td>0.0</td></tr>\n",
       "<tr><td>8</td><td>TESS Sector 29</td><td>2020</td><td><a href='https://heasarc.gsfc.nasa.gov/docs/tess/pipeline.html'>SPOC</a></td><td>20</td><td>307210830</td><td>0.0</td></tr>\n",
       "<tr><td>9</td><td>TESS Sector 32</td><td>2020</td><td><a href='https://heasarc.gsfc.nasa.gov/docs/tess/pipeline.html'>SPOC</a></td><td>20</td><td>307210830</td><td>0.0</td></tr>\n",
       "<tr><td>...</td><td>...</td><td>...</td><td>...</td><td>...</td><td>...</td><td>...</td></tr>\n",
       "<tr><td>87</td><td>TESS Sector 08</td><td>2019</td><td><a href='https://archive.stsci.edu/hlsp/gsfc-eleanor-lite'>GSFC-ELEANOR-LITE</a></td><td>1800</td><td>307210830</td><td>0.0</td></tr>\n",
       "<tr><td>88</td><td>TESS Sector 10</td><td>2019</td><td><a href='https://archive.stsci.edu/hlsp/gsfc-eleanor-lite'>GSFC-ELEANOR-LITE</a></td><td>1800</td><td>307210830</td><td>0.0</td></tr>\n",
       "<tr><td>89</td><td>TESS Sector 32</td><td>2020</td><td><a href='https://archive.stsci.edu/hlsp/cdips'>CDIPS</a></td><td>1800</td><td>307210830</td><td>0.0</td></tr>\n",
       "<tr><td>90</td><td>TESS Sector 29</td><td>2020</td><td><a href='https://archive.stsci.edu/hlsp/cdips'>CDIPS</a></td><td>1800</td><td>307210830</td><td>0.0</td></tr>\n",
       "<tr><td>91</td><td>TESS Sector 28</td><td>2020</td><td><a href='https://archive.stsci.edu/hlsp/cdips'>CDIPS</a></td><td>1800</td><td>307210830</td><td>0.0</td></tr>\n",
       "<tr><td>92</td><td>TESS Sector 39</td><td>2021</td><td><a href='https://archive.stsci.edu/hlsp/cdips'>CDIPS</a></td><td>1800</td><td>307210830</td><td>0.0</td></tr>\n",
       "<tr><td>93</td><td>TESS Sector 38</td><td>2021</td><td><a href='https://archive.stsci.edu/hlsp/cdips'>CDIPS</a></td><td>1800</td><td>307210830</td><td>0.0</td></tr>\n",
       "<tr><td>94</td><td>TESS Sector 37</td><td>2021</td><td><a href='https://archive.stsci.edu/hlsp/cdips'>CDIPS</a></td><td>1800</td><td>307210830</td><td>0.0</td></tr>\n",
       "<tr><td>95</td><td>TESS Sector 36</td><td>2021</td><td><a href='https://archive.stsci.edu/hlsp/cdips'>CDIPS</a></td><td>1800</td><td>307210830</td><td>0.0</td></tr>\n",
       "<tr><td>96</td><td>TESS Sector 35</td><td>2021</td><td><a href='https://archive.stsci.edu/hlsp/cdips'>CDIPS</a></td><td>1800</td><td>307210830</td><td>0.0</td></tr>\n",
       "</table>\n",
       "Length = 97 rows"
      ],
      "text/plain": [
       "SearchResult containing 97 data products.\n",
       "\n",
       " #     mission     year       author      exptime target_name distance\n",
       "                                             s                 arcsec \n",
       "--- -------------- ---- ----------------- ------- ----------- --------\n",
       "  0 TESS Sector 02 2018              SPOC     120   307210830      0.0\n",
       "  1 TESS Sector 05 2018              SPOC     120   307210830      0.0\n",
       "  2 TESS Sector 11 2019              SPOC     120   307210830      0.0\n",
       "  3 TESS Sector 08 2019              SPOC     120   307210830      0.0\n",
       "  4 TESS Sector 09 2019              SPOC     120   307210830      0.0\n",
       "  5 TESS Sector 10 2019              SPOC     120   307210830      0.0\n",
       "  6 TESS Sector 12 2019              SPOC     120   307210830      0.0\n",
       "  7 TESS Sector 28 2020              SPOC      20   307210830      0.0\n",
       "  8 TESS Sector 29 2020              SPOC      20   307210830      0.0\n",
       "  9 TESS Sector 32 2020              SPOC      20   307210830      0.0\n",
       "...            ...  ...               ...     ...         ...      ...\n",
       " 87 TESS Sector 08 2019 GSFC-ELEANOR-LITE    1800   307210830      0.0\n",
       " 88 TESS Sector 10 2019 GSFC-ELEANOR-LITE    1800   307210830      0.0\n",
       " 89 TESS Sector 32 2020             CDIPS    1800   307210830      0.0\n",
       " 90 TESS Sector 29 2020             CDIPS    1800   307210830      0.0\n",
       " 91 TESS Sector 28 2020             CDIPS    1800   307210830      0.0\n",
       " 92 TESS Sector 39 2021             CDIPS    1800   307210830      0.0\n",
       " 93 TESS Sector 38 2021             CDIPS    1800   307210830      0.0\n",
       " 94 TESS Sector 37 2021             CDIPS    1800   307210830      0.0\n",
       " 95 TESS Sector 36 2021             CDIPS    1800   307210830      0.0\n",
       " 96 TESS Sector 35 2021             CDIPS    1800   307210830      0.0\n",
       "Length = 97 rows"
      ]
     },
     "execution_count": 6,
     "metadata": {},
     "output_type": "execute_result"
    }
   ],
   "source": [
    "search_lcf"
   ]
  }
 ],
 "metadata": {
  "kernelspec": {
   "display_name": "base",
   "language": "python",
   "name": "python3"
  },
  "language_info": {
   "codemirror_mode": {
    "name": "ipython",
    "version": 3
   },
   "file_extension": ".py",
   "mimetype": "text/x-python",
   "name": "python",
   "nbconvert_exporter": "python",
   "pygments_lexer": "ipython3",
   "version": "3.11.7"
  }
 },
 "nbformat": 4,
 "nbformat_minor": 2
}
